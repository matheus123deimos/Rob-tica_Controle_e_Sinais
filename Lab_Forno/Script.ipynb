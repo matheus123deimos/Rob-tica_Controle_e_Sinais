{
 "cells": [
  {
   "cell_type": "markdown",
   "metadata": {},
   "source": [
    "## Importando as Bibliotecas Necessárias"
   ]
  },
  {
   "cell_type": "code",
   "execution_count": null,
   "metadata": {},
   "outputs": [],
   "source": [
    "import numpy as np\n",
    "import pandas as pd\n",
    "from scipy.io import loadmat\n",
    "from numpy.linalg import inv\n",
    "import matplotlib.pyplot as plt"
   ]
  },
  {
   "cell_type": "markdown",
   "metadata": {},
   "source": [
    "## Lendo os Dados que estão no Fomato do Matlab"
   ]
  },
  {
   "cell_type": "code",
   "execution_count": 37,
   "metadata": {},
   "outputs": [],
   "source": [
    "grupo3 = loadmat(\"grupo3.mat\")"
   ]
  },
  {
   "cell_type": "markdown",
   "metadata": {},
   "source": [
    "## Transformando os Dados em um DataFrame"
   ]
  },
  {
   "cell_type": "code",
   "execution_count": 39,
   "metadata": {},
   "outputs": [],
   "source": [
    "dados = pd.DataFrame(grupo3['z1'])"
   ]
  },
  {
   "cell_type": "markdown",
   "metadata": {},
   "source": [
    "## Isolando os Dados de Saída e de Entrada"
   ]
  },
  {
   "cell_type": "code",
   "execution_count": 5,
   "metadata": {},
   "outputs": [],
   "source": [
    "Y = dados[0]\n",
    "U = dados[1]"
   ]
  },
  {
   "cell_type": "markdown",
   "metadata": {},
   "source": [
    "## Organizando a Matriz X"
   ]
  },
  {
   "cell_type": "code",
   "execution_count": 6,
   "metadata": {},
   "outputs": [],
   "source": [
    "X = []\n",
    "a = 0\n",
    "a1 = 0\n",
    "b = 0\n",
    "b1 = 0\n",
    "for i in range(len(Y)):\n",
    "    k=i-2\n",
    "    if(k==-2 and (k+1)==-1):\n",
    "        X.append([a,a1,b,b1])\n",
    "    elif(k==-1):\n",
    "        a=Y[k+1]\n",
    "        b=U[k+1]\n",
    "        X.append([a,a1,b,b1])\n",
    "    else:\n",
    "        a=Y[i-1]\n",
    "        b=U[i-1]\n",
    "        a1=Y[i-2]\n",
    "        b1=U[i-1]\n",
    "        X.append([a,a1,b,b1])"
   ]
  },
  {
   "cell_type": "markdown",
   "metadata": {},
   "source": [
    "## Transformando X em um array"
   ]
  },
  {
   "cell_type": "code",
   "execution_count": 42,
   "metadata": {},
   "outputs": [],
   "source": [
    "X = np.array(X)"
   ]
  },
  {
   "cell_type": "code",
   "execution_count": 43,
   "metadata": {},
   "outputs": [
    {
     "name": "stdout",
     "output_type": "stream",
     "text": [
      "Array X : \n",
      "\n",
      "\n",
      "[[0.00000000e+00 0.00000000e+00 0.00000000e+00 0.00000000e+00]\n",
      " [3.49128276e-04 0.00000000e+00 1.00000000e+00 0.00000000e+00]\n",
      " [3.98182494e-01 3.49128276e-04 1.00000000e+00 1.00000000e+00]\n",
      " [6.40838213e-01 3.98182494e-01 1.00000000e+00 1.00000000e+00]\n",
      " [7.44293166e-01 6.40838213e-01 1.00000000e+00 1.00000000e+00]\n",
      " [8.02541752e-01 7.44293166e-01 1.00000000e+00 1.00000000e+00]\n",
      " [8.29636334e-01 8.02541752e-01 1.00000000e+00 1.00000000e+00]\n",
      " [8.44252913e-01 8.29636334e-01 1.00000000e+00 1.00000000e+00]\n",
      " [8.49432232e-01 8.44252913e-01 1.00000000e+00 1.00000000e+00]\n",
      " [8.53740035e-01 8.49432232e-01 1.00000000e+00 1.00000000e+00]\n",
      " [8.53573403e-01 8.53740035e-01 1.00000000e+00 1.00000000e+00]\n",
      " [8.53227059e-01 8.53573403e-01 1.00000000e+00 1.00000000e+00]\n",
      " [8.56918328e-01 8.53227059e-01 1.00000000e+00 1.00000000e+00]\n",
      " [8.57229623e-01 8.56918328e-01 1.00000000e+00 1.00000000e+00]\n",
      " [8.57300546e-01 8.57229623e-01 1.00000000e+00 1.00000000e+00]\n",
      " [8.56010403e-01 8.57300546e-01 1.00000000e+00 1.00000000e+00]\n",
      " [8.58531066e-01 8.56010403e-01 1.00000000e+00 1.00000000e+00]\n",
      " [8.56936696e-01 8.58531066e-01 1.00000000e+00 1.00000000e+00]\n",
      " [8.54525488e-01 8.56936696e-01 1.00000000e+00 1.00000000e+00]\n",
      " [8.57136337e-01 8.54525488e-01 1.00000000e+00 1.00000000e+00]]\n",
      "\n",
      "\n"
     ]
    }
   ],
   "source": [
    "print(\"Array X : \")\n",
    "print(\"\\n\")\n",
    "print(X)\n",
    "print(\"\\n\")"
   ]
  },
  {
   "cell_type": "markdown",
   "metadata": {},
   "source": [
    "## Transformando Y e U em um array"
   ]
  },
  {
   "cell_type": "code",
   "execution_count": 44,
   "metadata": {},
   "outputs": [
    {
     "name": "stdout",
     "output_type": "stream",
     "text": [
      "Array Y : \n",
      "\n",
      "\n",
      "[3.49128276e-04 3.98182494e-01 6.40838213e-01 7.44293166e-01\n",
      " 8.02541752e-01 8.29636334e-01 8.44252913e-01 8.49432232e-01\n",
      " 8.53740035e-01 8.53573403e-01 8.53227059e-01 8.56918328e-01\n",
      " 8.57229623e-01 8.57300546e-01 8.56010403e-01 8.58531066e-01\n",
      " 8.56936696e-01 8.54525488e-01 8.57136337e-01 8.56011879e-01]\n",
      "\n",
      "\n",
      "\n",
      "Array U : \n",
      "\n",
      "\n",
      "[1. 1. 1. 1. 1. 1. 1. 1. 1. 1. 1. 1. 1. 1. 1. 1. 1. 1. 1. 1.]\n",
      "\n",
      "\n"
     ]
    }
   ],
   "source": [
    "Y = np.array(Y)\n",
    "U = np.array(U)\n",
    "print(\"Array Y : \")\n",
    "print(\"\\n\")\n",
    "print(Y)\n",
    "print(\"\\n\\n\")\n",
    "print(\"Array U : \")\n",
    "print(\"\\n\")\n",
    "print(U)\n",
    "print(\"\\n\")"
   ]
  },
  {
   "cell_type": "markdown",
   "metadata": {},
   "source": [
    "## Obter os Parâmetros Estimados"
   ]
  },
  {
   "cell_type": "code",
   "execution_count": 11,
   "metadata": {},
   "outputs": [],
   "source": [
    "o = (inv(X.T @ X)@(X.T))@Y"
   ]
  },
  {
   "cell_type": "code",
   "execution_count": 48,
   "metadata": {},
   "outputs": [
    {
     "name": "stdout",
     "output_type": "stream",
     "text": [
      "Parâmetros O (Estimados) : \n",
      "\n",
      "\n",
      "[0.11461719 0.19057318 0.39814248 0.19700962]\n",
      "\n",
      "\n"
     ]
    }
   ],
   "source": [
    "print(\"Parâmetros O (Estimados) : \")\n",
    "print(\"\\n\")\n",
    "print(o)\n",
    "print(\"\\n\")"
   ]
  },
  {
   "cell_type": "markdown",
   "metadata": {},
   "source": [
    "## Obter a Soma do Quadrado dos Erros"
   ]
  },
  {
   "cell_type": "code",
   "execution_count": 13,
   "metadata": {},
   "outputs": [],
   "source": [
    "e = (Y-X@(o.T))@((Y-X@(o.T)).T)"
   ]
  },
  {
   "cell_type": "code",
   "execution_count": 50,
   "metadata": {},
   "outputs": [
    {
     "name": "stdout",
     "output_type": "stream",
     "text": [
      "Soma do Quadrado dos Erros : \n",
      "\n",
      "\n",
      "2.444138866364957e-05\n",
      "\n",
      "\n"
     ]
    }
   ],
   "source": [
    "print(\"Soma do Quadrado dos Erros : \")\n",
    "print(\"\\n\")\n",
    "print(e)\n",
    "print(\"\\n\")"
   ]
  },
  {
   "cell_type": "markdown",
   "metadata": {},
   "source": [
    "## Comparando os Dados Preditos com os Valores Corretos"
   ]
  },
  {
   "cell_type": "code",
   "execution_count": 15,
   "metadata": {},
   "outputs": [],
   "source": [
    "Comparar = pd.DataFrame({'Correto':Y,'Predito':X@(o.T)})"
   ]
  },
  {
   "cell_type": "code",
   "execution_count": 52,
   "metadata": {},
   "outputs": [
    {
     "name": "stdout",
     "output_type": "stream",
     "text": [
      "Data Frame para Comparar:\n",
      "\n",
      "\n",
      "     Correto   Predito\n",
      "0   0.000349  0.000000\n",
      "1   0.398182  0.398182\n",
      "2   0.640838  0.640857\n",
      "3   0.744293  0.744486\n",
      "4   0.802542  0.802587\n",
      "5   0.829636  0.828979\n",
      "6   0.844253  0.843186\n",
      "7   0.849432  0.850024\n",
      "8   0.853740  0.853404\n",
      "9   0.853573  0.854884\n",
      "10  0.853227  0.855686\n",
      "11  0.856918  0.855615\n",
      "12  0.857230  0.855972\n",
      "13  0.857301  0.856711\n",
      "14  0.856010  0.856778\n",
      "15  0.858531  0.856644\n",
      "16  0.856937  0.856687\n",
      "17  0.854525  0.856985\n",
      "18  0.857136  0.856405\n",
      "19  0.856012  0.856244\n"
     ]
    }
   ],
   "source": [
    "print(\"Data Frame para Comparar:\")\n",
    "print(\"\\n\")\n",
    "print(Comparar)"
   ]
  },
  {
   "cell_type": "markdown",
   "metadata": {},
   "source": [
    "## Gráfico com os Valores Preditos e Corretos com o Aumento da Angulação"
   ]
  },
  {
   "cell_type": "code",
   "execution_count": 36,
   "metadata": {},
   "outputs": [
    {
     "data": {
      "image/png": "[encoded data removed]",
      "text/plain": [
       "<Figure size 432x288 with 1 Axes>"
      ]
     },
     "metadata": {},
     "output_type": "display_data"
    }
   ],
   "source": [
    "T = 0.25\n",
    "aux = 0\n",
    "Amostragem = []\n",
    "for i in range(len(Y)):\n",
    "    aux += T\n",
    "    Amostragem.append(aux)\n",
    "\n",
    "\n",
    "plt.plot(Amostragem,Y,color='orange',label='Correto')\n",
    "plt.step(Amostragem,X@(o.T),color='blue',label='Predito')\n",
    "plt.title('Estabilização da Temperatura') \n",
    "plt.legend(loc='center right',fontsize=13)\n",
    "plt.xlabel('Tempo')\n",
    "plt.ylabel('Temperatura')\n",
    "plt.grid(True)\n",
    "plt.show()"
   ]
  },
  {
   "cell_type": "code",
   "execution_count": null,
   "metadata": {},
   "outputs": [],
   "source": []
  }
 ],
 "metadata": {
  "kernelspec": {
   "display_name": "Python 3",
   "language": "python",
   "name": "python3"
  },
  "language_info": {
   "codemirror_mode": {
    "name": "ipython",
    "version": 3
   },
   "file_extension": ".py",
   "mimetype": "text/x-python",
   "name": "python",
   "nbconvert_exporter": "python",
   "pygments_lexer": "ipython3",
   "version": "3.6.5"
  }
 },
 "nbformat": 4,
 "nbformat_minor": 2
}
