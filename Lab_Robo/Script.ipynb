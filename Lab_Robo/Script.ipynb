{
 "cells": [
  {
   "cell_type": "markdown",
   "metadata": {},
   "source": [
    "## Importando as Bibliotecas Necessárias"
   ]
  },
  {
   "cell_type": "code",
   "execution_count": 1,
   "metadata": {},
   "outputs": [],
   "source": [
    "import numpy as np\n",
    "import pandas as pd\n",
    "from scipy.io import loadmat\n",
    "from numpy.linalg import inv\n",
    "import matplotlib.pyplot as plt"
   ]
  },
  {
   "cell_type": "markdown",
   "metadata": {},
   "source": [
    "## Lendo os Dados que estão no Fomato do Matlab"
   ]
  },
  {
   "cell_type": "code",
   "execution_count": 2,
   "metadata": {},
   "outputs": [],
   "source": [
    "grupo3 = loadmat(\"GrupoRobo_3.mat\")"
   ]
  },
  {
   "cell_type": "markdown",
   "metadata": {},
   "source": [
    "## Transformando os Dados em um DataFrame"
   ]
  },
  {
   "cell_type": "code",
   "execution_count": 3,
   "metadata": {},
   "outputs": [],
   "source": [
    "dados = pd.DataFrame(grupo3['z1'])"
   ]
  },
  {
   "cell_type": "markdown",
   "metadata": {},
   "source": [
    "## Isolando os Dados de Saída e de Entrada"
   ]
  },
  {
   "cell_type": "code",
   "execution_count": 4,
   "metadata": {},
   "outputs": [],
   "source": [
    "Y = dados[0]\n",
    "U = dados[1]"
   ]
  },
  {
   "cell_type": "markdown",
   "metadata": {},
   "source": [
    "## Organizando a Matriz X"
   ]
  },
  {
   "cell_type": "code",
   "execution_count": 5,
   "metadata": {},
   "outputs": [],
   "source": [
    "X = []\n",
    "a = 0\n",
    "a1 = 0\n",
    "b = 0\n",
    "b1 = 0\n",
    "for i in range(len(Y)):\n",
    "    k=i-2\n",
    "    if(k==-2 and (k+1)==-1):\n",
    "        X.append([a,a1,b,b1])\n",
    "    elif(k==-1):\n",
    "        a=Y[k+1]\n",
    "        b=U[k+1]\n",
    "        X.append([a,a1,b,b1])\n",
    "    else:\n",
    "        a=Y[i-1]\n",
    "        b=U[i-1]\n",
    "        a1=Y[i-2]\n",
    "        b1=U[i-1]\n",
    "        X.append([a,a1,b,b1])"
   ]
  },
  {
   "cell_type": "markdown",
   "metadata": {},
   "source": [
    "## Transformando X em um array"
   ]
  },
  {
   "cell_type": "code",
   "execution_count": 6,
   "metadata": {},
   "outputs": [],
   "source": [
    "X = np.array(X)"
   ]
  },
  {
   "cell_type": "code",
   "execution_count": 7,
   "metadata": {},
   "outputs": [
    {
     "name": "stdout",
     "output_type": "stream",
     "text": [
      "Array X : \n",
      "\n",
      "\n",
      "[[0.00000000e+00 0.00000000e+00 0.00000000e+00 0.00000000e+00]\n",
      " [2.07273829e-03 0.00000000e+00 1.00000000e+02 0.00000000e+00]\n",
      " [3.06437632e-01 2.07273829e-03 1.00000000e+02 1.00000000e+02]\n",
      " [1.19984983e+00 3.06437632e-01 1.00000000e+02 1.00000000e+02]\n",
      " [2.66354096e+00 1.19984983e+00 1.00000000e+02 1.00000000e+02]\n",
      " [4.58120577e+00 2.66354096e+00 1.00000000e+02 1.00000000e+02]\n",
      " [6.95541151e+00 4.58120577e+00 1.00000000e+02 1.00000000e+02]\n",
      " [9.72158156e+00 6.95541151e+00 1.00000000e+02 1.00000000e+02]\n",
      " [1.28211233e+01 9.72158156e+00 1.00000000e+02 1.00000000e+02]\n",
      " [1.62235408e+01 1.28211233e+01 1.00000000e+02 1.00000000e+02]\n",
      " [1.98845163e+01 1.62235408e+01 1.00000000e+02 1.00000000e+02]\n",
      " [2.37565983e+01 1.98845163e+01 1.00000000e+02 1.00000000e+02]\n",
      " [2.77879262e+01 2.37565983e+01 1.00000000e+02 1.00000000e+02]\n",
      " [3.19740943e+01 2.77879262e+01 1.00000000e+02 1.00000000e+02]\n",
      " [3.62518250e+01 3.19740943e+01 1.00000000e+02 1.00000000e+02]\n",
      " [4.05889302e+01 3.62518250e+01 1.00000000e+02 1.00000000e+02]\n",
      " [4.49426484e+01 4.05889302e+01 1.00000000e+02 1.00000000e+02]\n",
      " [4.93452467e+01 4.49426484e+01 1.00000000e+02 1.00000000e+02]\n",
      " [5.36755275e+01 4.93452467e+01 1.00000000e+02 1.00000000e+02]\n",
      " [5.80088724e+01 5.36755275e+01 1.00000000e+02 1.00000000e+02]\n",
      " [6.22149129e+01 5.80088724e+01 1.00000000e+02 1.00000000e+02]\n",
      " [6.63595282e+01 6.22149129e+01 1.00000000e+02 1.00000000e+02]\n",
      " [7.04025183e+01 6.63595282e+01 1.00000000e+02 1.00000000e+02]\n",
      " [7.42813554e+01 7.04025183e+01 1.00000000e+02 1.00000000e+02]\n",
      " [7.80620348e+01 7.42813554e+01 1.00000000e+02 1.00000000e+02]\n",
      " [8.16740621e+01 7.80620348e+01 1.00000000e+02 1.00000000e+02]\n",
      " [8.51178280e+01 8.16740621e+01 1.00000000e+02 1.00000000e+02]\n",
      " [8.83787487e+01 8.51178280e+01 1.00000000e+02 1.00000000e+02]\n",
      " [9.14850842e+01 8.83787487e+01 1.00000000e+02 1.00000000e+02]\n",
      " [9.43809345e+01 9.14850842e+01 1.00000000e+02 1.00000000e+02]\n",
      " [9.71158807e+01 9.43809345e+01 1.00000000e+02 1.00000000e+02]\n",
      " [9.96392256e+01 9.71158807e+01 1.00000000e+02 1.00000000e+02]\n",
      " [1.01987242e+02 9.96392256e+01 1.00000000e+02 1.00000000e+02]\n",
      " [1.04126868e+02 1.01987242e+02 1.00000000e+02 1.00000000e+02]\n",
      " [1.06099368e+02 1.04126868e+02 1.00000000e+02 1.00000000e+02]\n",
      " [1.07863580e+02 1.06099368e+02 1.00000000e+02 1.00000000e+02]\n",
      " [1.09449767e+02 1.07863580e+02 1.00000000e+02 1.00000000e+02]\n",
      " [1.10846864e+02 1.09449767e+02 1.00000000e+02 1.00000000e+02]\n",
      " [1.12110236e+02 1.10846864e+02 1.00000000e+02 1.00000000e+02]\n",
      " [1.13191254e+02 1.12110236e+02 1.00000000e+02 1.00000000e+02]\n",
      " [1.14074761e+02 1.13191254e+02 1.00000000e+02 1.00000000e+02]\n",
      " [1.14846130e+02 1.14074761e+02 1.00000000e+02 1.00000000e+02]\n",
      " [1.15433601e+02 1.14846130e+02 1.00000000e+02 1.00000000e+02]\n",
      " [1.15890958e+02 1.15433601e+02 1.00000000e+02 1.00000000e+02]\n",
      " [1.16231386e+02 1.15890958e+02 1.00000000e+02 1.00000000e+02]\n",
      " [1.16433923e+02 1.16231386e+02 1.00000000e+02 1.00000000e+02]\n",
      " [1.16536626e+02 1.16433923e+02 1.00000000e+02 1.00000000e+02]\n",
      " [1.16505331e+02 1.16536626e+02 1.00000000e+02 1.00000000e+02]\n",
      " [1.16400383e+02 1.16505331e+02 1.00000000e+02 1.00000000e+02]\n",
      " [1.16196378e+02 1.16400383e+02 1.00000000e+02 1.00000000e+02]\n",
      " [1.15906672e+02 1.16196378e+02 1.00000000e+02 1.00000000e+02]\n",
      " [1.15545767e+02 1.15906672e+02 1.00000000e+02 1.00000000e+02]\n",
      " [1.15109719e+02 1.15545767e+02 1.00000000e+02 1.00000000e+02]\n",
      " [1.14611515e+02 1.15109719e+02 1.00000000e+02 1.00000000e+02]\n",
      " [1.14090843e+02 1.14611515e+02 1.00000000e+02 1.00000000e+02]\n",
      " [1.13495219e+02 1.14090843e+02 1.00000000e+02 1.00000000e+02]\n",
      " [1.12896043e+02 1.13495219e+02 1.00000000e+02 1.00000000e+02]\n",
      " [1.12231729e+02 1.12896043e+02 1.00000000e+02 1.00000000e+02]\n",
      " [1.11569337e+02 1.12231729e+02 1.00000000e+02 1.00000000e+02]\n",
      " [1.10885842e+02 1.11569337e+02 1.00000000e+02 1.00000000e+02]\n",
      " [1.10160722e+02 1.10885842e+02 1.00000000e+02 1.00000000e+02]\n",
      " [1.09446525e+02 1.10160722e+02 1.00000000e+02 1.00000000e+02]\n",
      " [1.08749915e+02 1.09446525e+02 1.00000000e+02 1.00000000e+02]\n",
      " [1.08030607e+02 1.08749915e+02 1.00000000e+02 1.00000000e+02]\n",
      " [1.07323023e+02 1.08030607e+02 1.00000000e+02 1.00000000e+02]\n",
      " [1.06629687e+02 1.07323023e+02 1.00000000e+02 1.00000000e+02]\n",
      " [1.05940358e+02 1.06629687e+02 1.00000000e+02 1.00000000e+02]\n",
      " [1.05294717e+02 1.05940358e+02 1.00000000e+02 1.00000000e+02]\n",
      " [1.04635849e+02 1.05294717e+02 1.00000000e+02 1.00000000e+02]\n",
      " [1.04029978e+02 1.04635849e+02 1.00000000e+02 1.00000000e+02]\n",
      " [1.03416756e+02 1.04029978e+02 1.00000000e+02 1.00000000e+02]\n",
      " [1.02865032e+02 1.03416756e+02 1.00000000e+02 1.00000000e+02]\n",
      " [1.02309918e+02 1.02865032e+02 1.00000000e+02 1.00000000e+02]\n",
      " [1.01761229e+02 1.02309918e+02 1.00000000e+02 1.00000000e+02]\n",
      " [1.01305523e+02 1.01761229e+02 1.00000000e+02 1.00000000e+02]\n",
      " [1.00865515e+02 1.01305523e+02 1.00000000e+02 1.00000000e+02]\n",
      " [1.00426219e+02 1.00865515e+02 1.00000000e+02 1.00000000e+02]\n",
      " [1.00030543e+02 1.00426219e+02 1.00000000e+02 1.00000000e+02]\n",
      " [9.96803477e+01 1.00030543e+02 1.00000000e+02 1.00000000e+02]\n",
      " [9.93603009e+01 9.96803477e+01 1.00000000e+02 1.00000000e+02]\n",
      " [9.90535205e+01 9.93603009e+01 1.00000000e+02 1.00000000e+02]\n",
      " [9.87777992e+01 9.90535205e+01 1.00000000e+02 1.00000000e+02]\n",
      " [9.85418486e+01 9.87777992e+01 1.00000000e+02 1.00000000e+02]\n",
      " [9.83305846e+01 9.85418486e+01 1.00000000e+02 1.00000000e+02]\n",
      " [9.81400738e+01 9.83305846e+01 1.00000000e+02 1.00000000e+02]\n",
      " [9.79890875e+01 9.81400738e+01 1.00000000e+02 1.00000000e+02]\n",
      " [9.78538868e+01 9.79890875e+01 1.00000000e+02 1.00000000e+02]\n",
      " [9.77544362e+01 9.78538868e+01 1.00000000e+02 1.00000000e+02]\n",
      " [9.76703103e+01 9.77544362e+01 1.00000000e+02 1.00000000e+02]\n",
      " [9.75884971e+01 9.76703103e+01 1.00000000e+02 1.00000000e+02]\n",
      " [9.75566577e+01 9.75884971e+01 1.00000000e+02 1.00000000e+02]\n",
      " [9.75285175e+01 9.75566577e+01 1.00000000e+02 1.00000000e+02]\n",
      " [9.75384638e+01 9.75285175e+01 1.00000000e+02 1.00000000e+02]\n",
      " [9.75280291e+01 9.75384638e+01 1.00000000e+02 1.00000000e+02]\n",
      " [9.75781920e+01 9.75280291e+01 1.00000000e+02 1.00000000e+02]\n",
      " [9.76324339e+01 9.75781920e+01 1.00000000e+02 1.00000000e+02]\n",
      " [9.76812782e+01 9.76324339e+01 1.00000000e+02 1.00000000e+02]\n",
      " [9.77573703e+01 9.76812782e+01 1.00000000e+02 1.00000000e+02]\n",
      " [9.78194510e+01 9.77573703e+01 1.00000000e+02 1.00000000e+02]\n",
      " [9.78993251e+01 9.78194510e+01 1.00000000e+02 1.00000000e+02]\n",
      " [9.79790282e+01 9.78993251e+01 1.00000000e+02 1.00000000e+02]\n",
      " [9.81228193e+01 9.79790282e+01 1.00000000e+02 1.00000000e+02]\n",
      " [9.82037730e+01 9.81228193e+01 1.00000000e+02 1.00000000e+02]\n",
      " [9.83201852e+01 9.82037730e+01 1.00000000e+02 1.00000000e+02]\n",
      " [9.84268126e+01 9.83201852e+01 1.00000000e+02 1.00000000e+02]\n",
      " [9.85318456e+01 9.84268126e+01 1.00000000e+02 1.00000000e+02]\n",
      " [9.86482278e+01 9.85318456e+01 1.00000000e+02 1.00000000e+02]\n",
      " [9.87425081e+01 9.86482278e+01 1.00000000e+02 1.00000000e+02]\n",
      " [9.88738803e+01 9.87425081e+01 1.00000000e+02 1.00000000e+02]\n",
      " [9.89950487e+01 9.88738803e+01 1.00000000e+02 1.00000000e+02]\n",
      " [9.91065383e+01 9.89950487e+01 1.00000000e+02 1.00000000e+02]\n",
      " [9.92322134e+01 9.91065383e+01 1.00000000e+02 1.00000000e+02]\n",
      " [9.93386908e+01 9.92322134e+01 1.00000000e+02 1.00000000e+02]\n",
      " [9.94351780e+01 9.93386908e+01 1.00000000e+02 1.00000000e+02]\n",
      " [9.95310204e+01 9.94351780e+01 1.00000000e+02 1.00000000e+02]\n",
      " [9.96494612e+01 9.95310204e+01 1.00000000e+02 1.00000000e+02]\n",
      " [9.97354541e+01 9.96494612e+01 1.00000000e+02 1.00000000e+02]\n",
      " [9.98297907e+01 9.97354541e+01 1.00000000e+02 1.00000000e+02]\n",
      " [9.99154627e+01 9.98297907e+01 1.00000000e+02 1.00000000e+02]\n",
      " [9.99915534e+01 9.99154627e+01 1.00000000e+02 1.00000000e+02]\n",
      " [1.00075722e+02 9.99915534e+01 1.00000000e+02 1.00000000e+02]\n",
      " [1.00141631e+02 1.00075722e+02 1.00000000e+02 1.00000000e+02]\n",
      " [1.00205540e+02 1.00141631e+02 1.00000000e+02 1.00000000e+02]\n",
      " [1.00255063e+02 1.00205540e+02 1.00000000e+02 1.00000000e+02]\n",
      " [1.00321681e+02 1.00255063e+02 1.00000000e+02 1.00000000e+02]\n",
      " [1.00381004e+02 1.00321681e+02 1.00000000e+02 1.00000000e+02]\n",
      " [1.00413358e+02 1.00381004e+02 1.00000000e+02 1.00000000e+02]\n",
      " [1.00462223e+02 1.00413358e+02 1.00000000e+02 1.00000000e+02]\n",
      " [1.00500608e+02 1.00462223e+02 1.00000000e+02 1.00000000e+02]\n",
      " [1.00559029e+02 1.00500608e+02 1.00000000e+02 1.00000000e+02]\n",
      " [1.00545582e+02 1.00559029e+02 1.00000000e+02 1.00000000e+02]\n",
      " [1.00573522e+02 1.00545582e+02 1.00000000e+02 1.00000000e+02]\n",
      " [1.00589997e+02 1.00573522e+02 1.00000000e+02 1.00000000e+02]\n",
      " [1.00593837e+02 1.00589997e+02 1.00000000e+02 1.00000000e+02]\n",
      " [1.00622215e+02 1.00593837e+02 1.00000000e+02 1.00000000e+02]\n",
      " [1.00631397e+02 1.00622215e+02 1.00000000e+02 1.00000000e+02]\n",
      " [1.00629055e+02 1.00631397e+02 1.00000000e+02 1.00000000e+02]\n",
      " [1.00633758e+02 1.00629055e+02 1.00000000e+02 1.00000000e+02]\n",
      " [1.00631924e+02 1.00633758e+02 1.00000000e+02 1.00000000e+02]\n",
      " [1.00626102e+02 1.00631924e+02 1.00000000e+02 1.00000000e+02]\n",
      " [1.00614421e+02 1.00626102e+02 1.00000000e+02 1.00000000e+02]\n",
      " [1.00607470e+02 1.00614421e+02 1.00000000e+02 1.00000000e+02]\n",
      " [1.00595287e+02 1.00607470e+02 1.00000000e+02 1.00000000e+02]\n",
      " [1.00599540e+02 1.00595287e+02 1.00000000e+02 1.00000000e+02]\n",
      " [1.00578887e+02 1.00599540e+02 1.00000000e+02 1.00000000e+02]\n",
      " [1.00567722e+02 1.00578887e+02 1.00000000e+02 1.00000000e+02]\n",
      " [1.00541616e+02 1.00567722e+02 1.00000000e+02 1.00000000e+02]\n",
      " [1.00510222e+02 1.00541616e+02 1.00000000e+02 1.00000000e+02]\n",
      " [1.00514888e+02 1.00510222e+02 1.00000000e+02 1.00000000e+02]\n",
      " [1.00502569e+02 1.00514888e+02 1.00000000e+02 1.00000000e+02]]\n",
      "\n",
      "\n"
     ]
    }
   ],
   "source": [
    "print(\"Array X : \")\n",
    "print(\"\\n\")\n",
    "print(X)\n",
    "print(\"\\n\")"
   ]
  },
  {
   "cell_type": "markdown",
   "metadata": {},
   "source": [
    "## Transformando Y e U em um array"
   ]
  },
  {
   "cell_type": "code",
   "execution_count": 8,
   "metadata": {},
   "outputs": [
    {
     "name": "stdout",
     "output_type": "stream",
     "text": [
      "Array Y : \n",
      "\n",
      "\n",
      "[2.07273829e-03 3.06437632e-01 1.19984983e+00 2.66354096e+00\n",
      " 4.58120577e+00 6.95541151e+00 9.72158156e+00 1.28211233e+01\n",
      " 1.62235408e+01 1.98845163e+01 2.37565983e+01 2.77879262e+01\n",
      " 3.19740943e+01 3.62518250e+01 4.05889302e+01 4.49426484e+01\n",
      " 4.93452467e+01 5.36755275e+01 5.80088724e+01 6.22149129e+01\n",
      " 6.63595282e+01 7.04025183e+01 7.42813554e+01 7.80620348e+01\n",
      " 8.16740621e+01 8.51178280e+01 8.83787487e+01 9.14850842e+01\n",
      " 9.43809345e+01 9.71158807e+01 9.96392256e+01 1.01987242e+02\n",
      " 1.04126868e+02 1.06099368e+02 1.07863580e+02 1.09449767e+02\n",
      " 1.10846864e+02 1.12110236e+02 1.13191254e+02 1.14074761e+02\n",
      " 1.14846130e+02 1.15433601e+02 1.15890958e+02 1.16231386e+02\n",
      " 1.16433923e+02 1.16536626e+02 1.16505331e+02 1.16400383e+02\n",
      " 1.16196378e+02 1.15906672e+02 1.15545767e+02 1.15109719e+02\n",
      " 1.14611515e+02 1.14090843e+02 1.13495219e+02 1.12896043e+02\n",
      " 1.12231729e+02 1.11569337e+02 1.10885842e+02 1.10160722e+02\n",
      " 1.09446525e+02 1.08749915e+02 1.08030607e+02 1.07323023e+02\n",
      " 1.06629687e+02 1.05940358e+02 1.05294717e+02 1.04635849e+02\n",
      " 1.04029978e+02 1.03416756e+02 1.02865032e+02 1.02309918e+02\n",
      " 1.01761229e+02 1.01305523e+02 1.00865515e+02 1.00426219e+02\n",
      " 1.00030543e+02 9.96803477e+01 9.93603009e+01 9.90535205e+01\n",
      " 9.87777992e+01 9.85418486e+01 9.83305846e+01 9.81400738e+01\n",
      " 9.79890875e+01 9.78538868e+01 9.77544362e+01 9.76703103e+01\n",
      " 9.75884971e+01 9.75566577e+01 9.75285175e+01 9.75384638e+01\n",
      " 9.75280291e+01 9.75781920e+01 9.76324339e+01 9.76812782e+01\n",
      " 9.77573703e+01 9.78194510e+01 9.78993251e+01 9.79790282e+01\n",
      " 9.81228193e+01 9.82037730e+01 9.83201852e+01 9.84268126e+01\n",
      " 9.85318456e+01 9.86482278e+01 9.87425081e+01 9.88738803e+01\n",
      " 9.89950487e+01 9.91065383e+01 9.92322134e+01 9.93386908e+01\n",
      " 9.94351780e+01 9.95310204e+01 9.96494612e+01 9.97354541e+01\n",
      " 9.98297907e+01 9.99154627e+01 9.99915534e+01 1.00075722e+02\n",
      " 1.00141631e+02 1.00205540e+02 1.00255063e+02 1.00321681e+02\n",
      " 1.00381004e+02 1.00413358e+02 1.00462223e+02 1.00500608e+02\n",
      " 1.00559029e+02 1.00545582e+02 1.00573522e+02 1.00589997e+02\n",
      " 1.00593837e+02 1.00622215e+02 1.00631397e+02 1.00629055e+02\n",
      " 1.00633758e+02 1.00631924e+02 1.00626102e+02 1.00614421e+02\n",
      " 1.00607470e+02 1.00595287e+02 1.00599540e+02 1.00578887e+02\n",
      " 1.00567722e+02 1.00541616e+02 1.00510222e+02 1.00514888e+02\n",
      " 1.00502569e+02 1.00489229e+02]\n",
      "\n",
      "\n",
      "\n",
      "Array U : \n",
      "\n",
      "\n",
      "[100. 100. 100. 100. 100. 100. 100. 100. 100. 100. 100. 100. 100. 100.\n",
      " 100. 100. 100. 100. 100. 100. 100. 100. 100. 100. 100. 100. 100. 100.\n",
      " 100. 100. 100. 100. 100. 100. 100. 100. 100. 100. 100. 100. 100. 100.\n",
      " 100. 100. 100. 100. 100. 100. 100. 100. 100. 100. 100. 100. 100. 100.\n",
      " 100. 100. 100. 100. 100. 100. 100. 100. 100. 100. 100. 100. 100. 100.\n",
      " 100. 100. 100. 100. 100. 100. 100. 100. 100. 100. 100. 100. 100. 100.\n",
      " 100. 100. 100. 100. 100. 100. 100. 100. 100. 100. 100. 100. 100. 100.\n",
      " 100. 100. 100. 100. 100. 100. 100. 100. 100. 100. 100. 100. 100. 100.\n",
      " 100. 100. 100. 100. 100. 100. 100. 100. 100. 100. 100. 100. 100. 100.\n",
      " 100. 100. 100. 100. 100. 100. 100. 100. 100. 100. 100. 100. 100. 100.\n",
      " 100. 100. 100. 100. 100. 100. 100. 100. 100. 100.]\n",
      "\n",
      "\n"
     ]
    }
   ],
   "source": [
    "Y = np.array(Y)\n",
    "U = np.array(U)\n",
    "print(\"Array Y : \")\n",
    "print(\"\\n\")\n",
    "print(Y)\n",
    "print(\"\\n\\n\")\n",
    "print(\"Array U : \")\n",
    "print(\"\\n\")\n",
    "print(U)\n",
    "print(\"\\n\")"
   ]
  },
  {
   "cell_type": "markdown",
   "metadata": {},
   "source": [
    "## Obter os Parâmetros Estimados"
   ]
  },
  {
   "cell_type": "code",
   "execution_count": 9,
   "metadata": {},
   "outputs": [],
   "source": [
    "o = (inv(X.T @ X)@(X.T))@Y"
   ]
  },
  {
   "cell_type": "code",
   "execution_count": 10,
   "metadata": {},
   "outputs": [
    {
     "name": "stdout",
     "output_type": "stream",
     "text": [
      "Parâmetros O (Estimados) : \n",
      "\n",
      "\n",
      "[ 1.91655131 -0.9227192   0.00302465  0.00315749]\n",
      "\n",
      "\n"
     ]
    }
   ],
   "source": [
    "print(\"Parâmetros O (Estimados) : \")\n",
    "print(\"\\n\")\n",
    "print(o)\n",
    "print(\"\\n\")"
   ]
  },
  {
   "cell_type": "markdown",
   "metadata": {},
   "source": [
    "## Obter a Soma do Quadrado dos Erros"
   ]
  },
  {
   "cell_type": "code",
   "execution_count": 11,
   "metadata": {},
   "outputs": [],
   "source": [
    "e = (Y-X@(o.T))@((Y-X@(o.T)).T)"
   ]
  },
  {
   "cell_type": "code",
   "execution_count": 12,
   "metadata": {},
   "outputs": [
    {
     "name": "stdout",
     "output_type": "stream",
     "text": [
      "Soma do Quadrado dos Erros : \n",
      "\n",
      "\n",
      "0.07806661461073164\n",
      "\n",
      "\n"
     ]
    }
   ],
   "source": [
    "print(\"Soma do Quadrado dos Erros : \")\n",
    "print(\"\\n\")\n",
    "print(e)\n",
    "print(\"\\n\")"
   ]
  },
  {
   "cell_type": "markdown",
   "metadata": {},
   "source": [
    "## Comparando os Dados Preditos com os Valores Corretos"
   ]
  },
  {
   "cell_type": "code",
   "execution_count": 13,
   "metadata": {},
   "outputs": [],
   "source": [
    "Comparar = pd.DataFrame({'Correto':Y,'Predito':X@(o.T)})"
   ]
  },
  {
   "cell_type": "code",
   "execution_count": 14,
   "metadata": {},
   "outputs": [
    {
     "name": "stdout",
     "output_type": "stream",
     "text": [
      "Data Frame para Comparar:\n",
      "\n",
      "\n",
      "        Correto     Predito\n",
      "0      0.002073    0.000000\n",
      "1      0.306438    0.306438\n",
      "2      1.199850    1.203605\n",
      "3      2.663541    2.635032\n",
      "4      4.581206    4.615903\n",
      "5      6.955412    6.940630\n",
      "6      9.721582    9.721451\n",
      "7     12.821123   12.832233\n",
      "8     16.223541   16.220265\n",
      "9     19.884516   19.881166\n",
      "10    23.756598   23.758138\n",
      "11    27.787926   27.801129\n",
      "12    31.974094   31.954531\n",
      "13    36.251825   36.257754\n",
      "14    40.588930   40.593586\n",
      "15    44.942648   44.958727\n",
      "16    49.345247   49.300921\n",
      "17    53.675527   53.721467\n",
      "18    58.008872   57.958310\n",
      "19    62.214913   62.267755\n",
      "20    66.359528   66.330387\n",
      "21    70.402518   70.392760\n",
      "22    74.281355   74.317042\n",
      "23    78.062035   78.020488\n",
      "24    81.674062   81.687277\n",
      "25    85.117828   85.121407\n",
      "26    88.378749   88.388674\n",
      "27    91.485084   91.460767\n",
      "28    94.380935   94.405304\n",
      "29    97.115881   97.089074\n",
      "..          ...         ...\n",
      "120  100.141631  100.154345\n",
      "121  100.205540  100.202998\n",
      "122  100.255063  100.264667\n",
      "123  100.321681  100.300612\n",
      "124  100.381004  100.382591\n",
      "125  100.413358  100.434818\n",
      "126  100.462223  100.442088\n",
      "127  100.500608  100.505887\n",
      "128  100.559029  100.534363\n",
      "129  100.545582  100.610912\n",
      "130  100.573522  100.531234\n",
      "131  100.589997  100.597191\n",
      "132  100.593837  100.602985\n",
      "133  100.622215  100.595142\n",
      "134  100.631397  100.645987\n",
      "135  100.629055  100.637401\n",
      "136  100.633758  100.624439\n",
      "137  100.631924  100.635613\n",
      "138  100.626102  100.627760\n",
      "139  100.614421  100.618294\n",
      "140  100.607470  100.601277\n",
      "141  100.595287  100.598735\n",
      "142  100.599540  100.581800\n",
      "143  100.578887  100.601191\n",
      "144  100.567722  100.557686\n",
      "145  100.541616  100.555343\n",
      "146  100.510222  100.515613\n",
      "147  100.514888  100.479531\n",
      "148  100.502569  100.517443\n",
      "149  100.489229  100.489527\n",
      "\n",
      "[150 rows x 2 columns]\n"
     ]
    }
   ],
   "source": [
    "print(\"Data Frame para Comparar:\")\n",
    "print(\"\\n\")\n",
    "print(Comparar)"
   ]
  },
  {
   "cell_type": "markdown",
   "metadata": {},
   "source": [
    "## Gráfico com os Valores Preditos e Corretos no Decorrer do Tempo"
   ]
  },
  {
   "cell_type": "code",
   "execution_count": 15,
   "metadata": {},
   "outputs": [
    {
     "data": {
      "image/png": "[encoded data removed]",
      "text/plain": [
       "<Figure size 432x288 with 1 Axes>"
      ]
     },
     "metadata": {},
     "output_type": "display_data"
    }
   ],
   "source": [
    "T = 0.25\n",
    "aux = 0\n",
    "Amostragem = []\n",
    "for i in range(len(Y)):\n",
    "    aux += T\n",
    "    Amostragem.append(aux)\n",
    "\n",
    "\n",
    "plt.plot(Amostragem,Y,color='orange',label='Correto')\n",
    "plt.step(Amostragem,X@(o.T),color='blue',label='Predito')\n",
    "plt.title('Estabilização da Potência') \n",
    "plt.legend(loc='center right',fontsize=13)\n",
    "plt.xlabel('Tempo')\n",
    "plt.ylabel('Potência do Motor')\n",
    "plt.grid(True)\n",
    "plt.show()"
   ]
  }
 ],
 "metadata": {
  "kernelspec": {
   "display_name": "Python 3",
   "language": "python",
   "name": "python3"
  },
  "language_info": {
   "codemirror_mode": {
    "name": "ipython",
    "version": 3
   },
   "file_extension": ".py",
   "mimetype": "text/x-python",
   "name": "python",
   "nbconvert_exporter": "python",
   "pygments_lexer": "ipython3",
   "version": "3.6.5"
  }
 },
 "nbformat": 4,
 "nbformat_minor": 2
}
